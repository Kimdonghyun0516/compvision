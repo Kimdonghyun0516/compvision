{
 "cells": [
  {
   "cell_type": "markdown",
   "metadata": {},
   "source": [
    "## Homework3"
   ]
  },
  {
   "cell_type": "code",
   "execution_count": 23,
   "metadata": {},
   "outputs": [],
   "source": [
    "import numpy as np\n",
    "import cv2 as cv"
   ]
  },
  {
   "cell_type": "code",
   "execution_count": 24,
   "metadata": {},
   "outputs": [],
   "source": [
    "img_gray = cv.imread('sIMG_8253.JPG', cv.IMREAD_GRAYSCALE)\n",
    "img_gray = cv.medianBlur(img_gray,5)\n",
    "img_color = cv.cvtColor(img_gray,cv.COLOR_GRAY2BGR)\n",
    "\n",
    "circles = cv.HoughCircles(img_gray,cv.HOUGH_GRADIENT,1,20,\n",
    "                            param1=250,param2=55,minRadius=0,maxRadius=0)\n",
    "circles = np.uint16(np.around(circles))\n",
    "\n",
    "for c in circles[0,:]:\n",
    "\n",
    "    center = (c[0],c[1])\n",
    "    radius = c[2]\n",
    "    \n",
    "    # 바깥원\n",
    "    cv.circle(img_color,center,radius,(0,255,0),3)\n",
    "    \n",
    "    # 중심원\n",
    "    cv.circle(img_color,center,2,(0,0,255),3)\n",
    "    \n",
    "cv.imshow('detected circles',img_color)\n",
    "cv.waitKey(0)\n",
    "cv.destroyAllWindows()    "
   ]
  },
  {
   "cell_type": "code",
   "execution_count": 35,
   "metadata": {},
   "outputs": [],
   "source": [
    "import cv2\n",
    "import numpy as np\n",
    "from matplotlib import pyplot as plt"
   ]
  },
  {
   "cell_type": "code",
   "execution_count": 26,
   "metadata": {},
   "outputs": [],
   "source": [
    "img = cv2.imread('sIMG_8253.jpg',1)\n",
    "gray = cv2.cvtColor(img, cv2.COLOR_BGR2GRAY)\n",
    "\n",
    "gray_blur = cv2.GaussianBlur(gray, (15, 15), 0)\n",
    "thresh = cv2.adaptiveThreshold(gray_blur, 255, cv2.ADAPTIVE_THRESH_GAUSSIAN_C,cv2.THRESH_BINARY_INV, 11, 1)\n",
    "\n",
    "kerne = np.ones((3, 3), np.uint8)\n",
    "closing = cv2.morphologyEx(thresh, cv2.MORPH_CLOSE, kernel, iterations=4)\n",
    "\n",
    "cont_img = closing.copy()\n",
    "contours, hierarchy = cv2.findContours(cont_img, cv2.RETR_EXTERNAL, cv2.CHAIN_APPROX_SIMPLE)\n",
    "\n",
    "for cnt in contours:\n",
    "    area = cv2.contourArea(cnt)\n",
    "    if area < 200 or area > 6500:\n",
    "        continue\n",
    "        \n",
    "    if len(cnt) < 5:\n",
    "        continue\n",
    "        \n",
    "    ellipse = cv2.fitEllipse(cnt)\n",
    "    cv2.ellipse(img, ellipse, (0, 255, 0), 2)\n",
    "    \n",
    "cv2.imshow(\"Morphological Closing\", closing)\n",
    "cv2.imshow(\"Adaptive Threshold\", thresh)\n",
    "cv2.imshow(\"contours\", img)\n",
    "\n",
    "cv2.waitKey(0)\n",
    "cv2.destroyAllWindows()"
   ]
  },
  {
   "cell_type": "code",
   "execution_count": 27,
   "metadata": {},
   "outputs": [],
   "source": [
    "img1 = cv2.imread('sIMG_8254.jpg',1)\n",
    "gray1 = cv2.cvtColor(img1, cv2.COLOR_BGR2GRAY)\n",
    "\n",
    "gray_blur1 = cv2.GaussianBlur(gray1, (15, 15), 0)\n",
    "thresh1 = cv2.adaptiveThreshold(gray_blur1, 255, cv2.ADAPTIVE_THRESH_GAUSSIAN_C,cv2.THRESH_BINARY_INV, 11, 1)\n",
    "\n",
    "kernel = np.ones((3, 3), np.uint8)\n",
    "closing = cv2.morphologyEx(thresh1, cv2.MORPH_CLOSE, kernel, iterations=4)\n",
    "\n",
    "cont_img1 = closing.copy()\n",
    "contours, hierarchy = cv2.findContours(cont_img1, cv2.RETR_EXTERNAL, cv2.CHAIN_APPROX_SIMPLE)\n",
    "\n",
    "for cnt in contours:\n",
    "    area = cv2.contourArea(cnt)\n",
    "    if area < 200 or area > 6500:\n",
    "        continue\n",
    "        \n",
    "    if len(cnt) < 5:\n",
    "        continue\n",
    "        \n",
    "    ellipse = cv2.fitEllipse(cnt)\n",
    "    cv2.ellipse(img1, ellipse, (0, 255, 0), 2)\n",
    "\n",
    "cv2.imshow(\"Morphological Closing\", closing)\n",
    "cv2.imshow(\"Adaptive Threshol\", thresh1)\n",
    "cv2.imshow(\"Contours\", img1)\n",
    "\n",
    "cv2.waitKey(0)\n",
    "cv2.destroyAllWindows()"
   ]
  },
  {
   "cell_type": "code",
   "execution_count": 28,
   "metadata": {},
   "outputs": [],
   "source": [
    "img2 = cv2.imread('sIMG_8255.jpg',1)\n",
    "gray2 = cv2.cvtColor(img2, cv2.COLOR_BGR2GRAY)\n",
    "\n",
    "gray_blur2 = cv2.GaussianBlur(gray2, (15, 15), 0)\n",
    "thresh2 = cv2.adaptiveThreshold(gray_blur2, 255, cv2.ADAPTIVE_THRESH_GAUSSIAN_C,cv2.THRESH_BINARY_INV, 11, 1)\n",
    "\n",
    "kernel = np.ones((3, 3), np.uint8)\n",
    "closing = cv2.morphologyEx(thresh2, cv2.MORPH_CLOSE, kernel, iterations=4)\n",
    "\n",
    "cont_img2 = closing.copy()\n",
    "contours, hierarchy = cv2.findContours(cont_img2, cv2.RETR_EXTERNAL, cv2.CHAIN_APPROX_SIMPLE)\n",
    "\n",
    "for cnt in contours:\n",
    "    area = cv2.contourArea(cnt)\n",
    "    if area < 200 or area > 6500:\n",
    "        continue\n",
    "        \n",
    "    if len(cnt) < 5:\n",
    "        continue\n",
    "        \n",
    "    ellipse = cv2.fitEllipse(cnt)\n",
    "    cv2.ellipse(img1, ellipse, (0, 255, 0), 2)\n",
    "\n",
    "cv2.imshow(\"Morphological Closing\", closing)\n",
    "cv2.imshow(\"Adaptive Threshol\", thresh2)\n",
    "cv2.imshow(\"Contours\", img2)\n",
    "\n",
    "cv2.waitKey(0)\n",
    "cv2.destroyAllWindows()"
   ]
  },
  {
   "cell_type": "code",
   "execution_count": 37,
   "metadata": {},
   "outputs": [],
   "source": [
    "img3 = cv2.imread('sIMG_8256.jpg',1)\n",
    "gray3 = cv2.cvtColor(img3, cv2.COLOR_BGR2GRAY)\n",
    "\n",
    "gray_blur3 = cv2.GaussianBlur(gray3, (15, 15), 0)\n",
    "thresh3 = cv2.adaptiveThreshold(gray_blur3, 255, cv2.ADAPTIVE_THRESH_GAUSSIAN_C,cv2.THRESH_BINARY_INV, 11, 1)\n",
    "\n",
    "kernel = np.ones((3, 3), np.uint8)\n",
    "closing = cv2.morphologyEx(thresh3, cv2.MORPH_CLOSE, kernel, iterations=4)\n",
    "\n",
    "cont_img3 = closing.copy()\n",
    "contours, hierarchy = cv2.findContours(cont_img3, cv2.RETR_EXTERNAL, cv2.CHAIN_APPROX_SIMPLE)\n",
    "\n",
    "for cnt in contours:\n",
    "    area = cv2.contourArea(cnt)\n",
    "    if area < 200 or area > 6500:\n",
    "        continue\n",
    "        \n",
    "    if len(cnt) < 5:\n",
    "        continue\n",
    "        \n",
    "    ellipse = cv2.fitEllipse(cnt)\n",
    "    cv2.ellipse(img1, ellipse, (0, 255, 0), 2)\n",
    "\n",
    "cv2.imshow(\"Morphological Closing\", closing)\n",
    "cv2.imshow(\"Adaptive Threshol\", thresh)\n",
    "cv2.imshow(\"Contours\", img3)\n",
    "\n",
    "cv2.waitKey(0)\n",
    "cv2.destroyAllWindows()"
   ]
  },
  {
   "cell_type": "code",
   "execution_count": null,
   "metadata": {},
   "outputs": [],
   "source": []
  },
  {
   "cell_type": "code",
   "execution_count": null,
   "metadata": {},
   "outputs": [],
   "source": []
  },
  {
   "cell_type": "code",
   "execution_count": null,
   "metadata": {},
   "outputs": [],
   "source": []
  }
 ],
 "metadata": {
  "kernelspec": {
   "display_name": "Python 3",
   "language": "python",
   "name": "python3"
  },
  "language_info": {
   "codemirror_mode": {
    "name": "ipython",
    "version": 3
   },
   "file_extension": ".py",
   "mimetype": "text/x-python",
   "name": "python",
   "nbconvert_exporter": "python",
   "pygments_lexer": "ipython3",
   "version": "3.8.3"
  }
 },
 "nbformat": 4,
 "nbformat_minor": 4
}
